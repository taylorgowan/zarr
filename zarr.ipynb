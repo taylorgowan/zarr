{
 "cells": [
  {
   "cell_type": "markdown",
   "metadata": {},
   "source": [
    "# Compressed N-Dim Files with Zarr \n",
    "\n",
    "#### This notebook creates a Zarr store, group, and datasets <br/> For more info, see the links below\n",
    "<br/> Zarr module tutorial<br/>\n",
    "https://zarr.readthedocs.io/en/stable/tutorial.html <br/>\n",
    "Talk on Zarr by Alistair Miles <br/>\n",
    "https://youtu.be/qyJXBlrdzBs"
   ]
  },
  {
   "cell_type": "code",
   "execution_count": null,
   "metadata": {},
   "outputs": [],
   "source": [
    "import zarr\n",
    "import numpy as np\n",
    "import pandas as pd\n",
    "import sys\n",
    "import netCDF4\n",
    "from datetime import datetime,timedelta\n",
    "import xarray as xr\n",
    "from numcodecs import Blosc\n",
    "import dask as ds"
   ]
  },
  {
   "cell_type": "markdown",
   "metadata": {},
   "source": [
    "## Create a Zarr Group"
   ]
  },
  {
   "cell_type": "markdown",
   "metadata": {},
   "source": [
    "Path to store the zarr file\n",
    "<br/>Right now we are just using basic dir storage in Horel-group4\n",
    "\n"
   ]
  },
  {
   "cell_type": "code",
   "execution_count": null,
   "metadata": {},
   "outputs": [],
   "source": [
    "dataloc = '/uufs/chpc.utah.edu/common/home/horel-group4/tmccorkle/imerg_early/'\n",
    "store = zarr.DirectoryStore(dataloc+'imerg.zarr')"
   ]
  },
  {
   "cell_type": "code",
   "execution_count": null,
   "metadata": {},
   "outputs": [],
   "source": [
    "root = zarr.group(store=store, overwrite=True)\n",
    "root"
   ]
  },
  {
   "cell_type": "markdown",
   "metadata": {},
   "source": [
    "Within the root group, create a group for each variable\n",
    "\n",
    "We care mostly about the precipitationCal estimates, so thats what our example will show"
   ]
  },
  {
   "cell_type": "code",
   "execution_count": null,
   "metadata": {},
   "outputs": [],
   "source": [
    "pcal = root.create_group('precipitationCal')"
   ]
  },
  {
   "cell_type": "markdown",
   "metadata": {},
   "source": [
    "Create a precipitationCal dataset for each year \n",
    "\n",
    "Chunks are determined by how we will use this data.  We will likely want time series, so we are only chunking along the lat/lon dimensions of the data. <br/> Dims: (lon,lat,time)"
   ]
  },
  {
   "cell_type": "code",
   "execution_count": null,
   "metadata": {},
   "outputs": [],
   "source": [
    "z0 = pcal.create_dataset('2014',shape=(3600,1800,92),chunks=(400,200,92),dtype='i4')\n",
    "z1 = pcal.create_dataset('2015',shape=(3600,1800,92),chunks=(400,200,92),dtype='i4')\n",
    "z2 = pcal.create_dataset('2016',shape=(3600,1800,92),chunks=(400,200,92),dtype='i4')\n",
    "z3 = pcal.create_dataset('2017',shape=(3600,1800,92),chunks=(400,200,92),dtype='i4')\n",
    "z4 = pcal.create_dataset('2018',shape=(3600,1800,92),chunks=(400,200,92),dtype='i4')\n",
    "z5 = pcal.create_dataset('2019',shape=(3600,1800,92),chunks=(400,200,92),dtype='i4')"
   ]
  },
  {
   "cell_type": "markdown",
   "metadata": {},
   "source": [
    "#### We can look at our zarr file heiarchy using root.tree()"
   ]
  },
  {
   "cell_type": "code",
   "execution_count": 46,
   "metadata": {},
   "outputs": [
    {
     "data": {
      "text/html": [
       "<img src=\"http://home.chpc.utah.edu/~u1014509/root.png\",width=60,height=60>\"\n"
      ],
      "text/plain": [
       "<IPython.core.display.HTML object>"
      ]
     },
     "metadata": {},
     "output_type": "display_data"
    }
   ],
   "source": [
    "%%html\n",
    "<img src=\"http://home.chpc.utah.edu/~u1014509/root.png\",width=60,height=60>\""
   ]
  },
  {
   "cell_type": "markdown",
   "metadata": {},
   "source": [
    "---\n",
    "## Load in all IMERG-E daily files for a year\n",
    "\n",
    "*Xarray's open_mfdataset is dependent on Dask.\n",
    "\n",
    "This allows you to open multiple files at once and create a single dataset."
   ]
  },
  {
   "cell_type": "code",
   "execution_count": null,
   "metadata": {},
   "outputs": [],
   "source": [
    "loc = '/uufs/chpc.utah.edu/common/home/horel-group4/tmccorkle/imerg_early/2014v6/'\n",
    "\n",
    "ds = xr.open_mfdataset(loc+'*.nc4',combine='by_coords')"
   ]
  },
  {
   "cell_type": "markdown",
   "metadata": {},
   "source": [
    "Get size and info for the dataset"
   ]
  },
  {
   "cell_type": "code",
   "execution_count": null,
   "metadata": {},
   "outputs": [],
   "source": [
    "print('ds size in GB {:0.2f}\\n'.format(ds.nbytes / 1e9))\n",
    "ds.info"
   ]
  },
  {
   "cell_type": "markdown",
   "metadata": {},
   "source": [
    "#### Here we are looking at the Dask Arrays and getting the entire precipitaitonCal variable"
   ]
  },
  {
   "cell_type": "code",
   "execution_count": null,
   "metadata": {},
   "outputs": [],
   "source": [
    "for name, da in ds.data_vars.items():\n",
    "    print(name, da.data)\n",
    "    \n",
    "precipitationcal = ds.variables['precipitationCal'].values\n",
    "\n",
    "# Fill nan values with an arbitrary negative number\n",
    "pcal = np.nan_to_num(precipitationcal,nan=-1.0)"
   ]
  },
  {
   "cell_type": "code",
   "execution_count": null,
   "metadata": {},
   "outputs": [],
   "source": [
    "# Just some dimension reshuffling \n",
    "zarray = np.zeros((3600,1800,92))\n",
    "for i in range(0,92):\n",
    "    zarray[:,:,i] = pcal[i,:,:]\n",
    "    \n",
    "zarray = np.round(zarray,decimals=1)"
   ]
  },
  {
   "cell_type": "markdown",
   "metadata": {},
   "source": [
    "#### Place the data inside the zarr dataset we made. The chunks should be the same. Here, we are using the Blosc compressor and filters. \n",
    "\n",
    "##### Requires the numcodecs module for compression capability"
   ]
  },
  {
   "cell_type": "code",
   "execution_count": null,
   "metadata": {},
   "outputs": [],
   "source": [
    "compressor = Blosc(cname='zstd',clevel=3,shuffle=Blosc.BITSHUFFLE)"
   ]
  },
  {
   "cell_type": "code",
   "execution_count": null,
   "metadata": {},
   "outputs": [],
   "source": [
    "z0[:] = zarr.array(zarray, chunks=(400,200,92), compressor=compressor)\n",
    "z0.info"
   ]
  },
  {
   "cell_type": "markdown",
   "metadata": {},
   "source": [
    "#### Dataset info after compression"
   ]
  },
  {
   "cell_type": "code",
   "execution_count": 47,
   "metadata": {},
   "outputs": [
    {
     "data": {
      "text/html": [
       "<img src=\"http://home.chpc.utah.edu/~u1014509/datinfo.png\",width=60,height=60>\"\n"
      ],
      "text/plain": [
       "<IPython.core.display.HTML object>"
      ]
     },
     "metadata": {},
     "output_type": "display_data"
    }
   ],
   "source": [
    "%%html\n",
    "<img src=\"http://home.chpc.utah.edu/~u1014509/datinfo.png\",width=60,height=60>\""
   ]
  }
 ],
 "metadata": {
  "kernelspec": {
   "display_name": "Python 3",
   "language": "python",
   "name": "python3"
  },
  "language_info": {
   "codemirror_mode": {
    "name": "ipython",
    "version": 3
   },
   "file_extension": ".py",
   "mimetype": "text/x-python",
   "name": "python",
   "nbconvert_exporter": "python",
   "pygments_lexer": "ipython3",
   "version": "3.8.1"
  }
 },
 "nbformat": 4,
 "nbformat_minor": 4
}
